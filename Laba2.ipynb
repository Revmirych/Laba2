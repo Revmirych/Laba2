{
  "nbformat": 4,
  "nbformat_minor": 0,
  "metadata": {
    "colab": {
      "provenance": [],
      "authorship_tag": "ABX9TyMdVOiowLge0uTwXVCTXpXr",
      "include_colab_link": true
    },
    "kernelspec": {
      "name": "python3",
      "display_name": "Python 3"
    },
    "language_info": {
      "name": "python"
    }
  },
  "cells": [
    {
      "cell_type": "markdown",
      "metadata": {
        "id": "view-in-github",
        "colab_type": "text"
      },
      "source": [
        "<a href=\"https://colab.research.google.com/github/Revmirych/Laba2/blob/main/Laba2.ipynb\" target=\"_parent\"><img src=\"https://colab.research.google.com/assets/colab-badge.svg\" alt=\"Open In Colab\"/></a>"
      ]
    },
    {
      "cell_type": "code",
      "execution_count": null,
      "metadata": {
        "colab": {
          "base_uri": "https://localhost:8080/"
        },
        "id": "2tfne8jzAnad",
        "outputId": "1f6529f8-6672-4937-942e-4cac090b6e24"
      },
      "outputs": [
        {
          "output_type": "stream",
          "name": "stdout",
          "text": [
            "Введите название товара \n",
            "Cchirs\n",
            "Введите название товара \n",
            "bred\n",
            "Введите название товара \n",
            "\n",
            "Введите цену на товар Cchirs в магазине Ашан\n",
            "10\n",
            "Введите цену на товар Cchirs в магазине Карусель\n",
            "20\n",
            "Введите цену на товар Cchirs в магазине Хз\n",
            "30\n",
            "Введите цену на товар bred в магазине Ашан\n",
            "30\n",
            "Введите цену на товар bred в магазине Карусель\n",
            "40\n",
            "Введите цену на товар bred в магазине Хз\n",
            "50\n",
            "стоимость корзины в магазине Ашан: 40\n",
            "стоимость корзины в магазине Карусель: 60\n",
            "стоимость корзины в магазине Хз: 80\n",
            "минимальная цена в магазине Ашан\n"
          ]
        }
      ],
      "source": [
        "Goods = []\n",
        "Shops = [\"Ашан\" , \"Магнит\" , \"Пятерочка\"]\n",
        "Posts = []\n",
        "IsTrue = True\n",
        "while IsTrue == True:\n",
        "   Name = input(f\"Введите название товара \\n\")\n",
        "   if Name != '':\n",
        "     Goods.append(Name)\n",
        "   else:\n",
        "    IsTrue = False\n",
        "\n",
        "\n",
        "for Item in Goods:\n",
        "  Goods_posts = []\n",
        "  for Shop in Shops:\n",
        "    Price = int(input(f\"Введите цену на товар {Item} в магазине {Shop}\\n\"))\n",
        "    Goods_posts.append(Price)\n",
        "  Posts.append(Goods_posts)\n",
        "Basket = []\n",
        "for Count , Value in enumerate(Shops):\n",
        "  Total = 0\n",
        "  for Idx , Product in enumerate(Goods):\n",
        "    Total+= Posts[Idx][Count]\n",
        "  print(f\"стоимость корзины в магазине {Value}: {Total}\")\n",
        "  Basket.append(Total)\n",
        "Min_Dx = 0\n",
        "Min_Value = None\n",
        "for Idx , Value in enumerate(Basket):\n",
        "  if Min_Value == None  or Value < Min_Value:\n",
        "    Min_Dx = Idx\n",
        "    Min_Value = Value\n",
        "print(f\"минимальная цена в магазине {Shops[Min_Dx]}\")\n",
        "\n"
      ]
    },
    {
      "cell_type": "code",
      "source": [],
      "metadata": {
        "id": "3n8PIgUwWlrz"
      },
      "execution_count": null,
      "outputs": []
    },
    {
      "cell_type": "code",
      "source": [],
      "metadata": {
        "id": "_g84pYRYTXYJ"
      },
      "execution_count": null,
      "outputs": []
    },
    {
      "cell_type": "code",
      "source": [],
      "metadata": {
        "id": "her4obpqC3NW"
      },
      "execution_count": null,
      "outputs": []
    }
  ]
}